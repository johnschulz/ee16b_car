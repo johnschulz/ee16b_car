{
 "cells": [
  {
   "cell_type": "markdown",
   "metadata": {},
   "source": [
    "# SIXT33N\n",
    "## Phase 2: Introduction to Controls\n",
    "\n",
    "### EE 16B: Designing Information Devices and Systems II, Spring 2018"
   ]
  },
  {
   "cell_type": "markdown",
   "metadata": {},
   "source": [
    "**Name 1**:\n",
    "\n",
    "**Login**: ee16b-\n",
    "\n",
    "\n",
    "**Name 2**:\n",
    "\n",
    "**Login**: ee16b-"
   ]
  },
  {
   "cell_type": "markdown",
   "metadata": {},
   "source": [
    "## Table of Contents\n",
    "\n",
    "* [Introduction](#intro)\n",
    "* [Part 1: Open Loop Control](#part1)\n",
    "* [Part 2: Closed Loop Simulation and Implementation](#part2)\n",
    "* [Part 3: Driving Straight](#part3)"
   ]
  },
  {
   "cell_type": "markdown",
   "metadata": {},
   "source": [
    "<a id='part1'></a>\n",
    "## <span style=\"color:blue\">Part 1: Open Loop Control</span>"
   ]
  },
  {
   "cell_type": "markdown",
   "metadata": {},
   "source": [
    "<a id='intro'></a>\n",
    "## Introduction\n",
    "\n",
    "Last time you modeled the open-loop system, collected data, and determined the unknown parameters of your car.\n",
    "\n",
    "This week, you'll implement the open-loop and closed-loop systems. By the end of the phase, you should be able to control the trajectory of the car. We will return to turning later in the project. **Remember to document all design choices you made and explain them in the project report.**\n",
    "\n",
    "The goals of this phase are as follows:\n",
    "- Controller design\n",
    "- Closed loop simulation\n",
    "- Move at constant speed + direction\n",
    "\n",
    "<span style=\"color:red\">**Fill in your model parameters and target velocty from System ID below.**</span>"
   ]
  },
  {
   "cell_type": "code",
   "execution_count": 7,
   "metadata": {
    "scrolled": false
   },
   "outputs": [],
   "source": [
    "# YOUR PARAMETERS HERE\n",
    "v_star = 79.8;\n",
    "theta_left = 0.2476;\n",
    "theta_right = 0.2451;\n",
    "beta_left = -29.8;\n",
    "beta_right = -38.59;"
   ]
  },
  {
   "cell_type": "code",
   "execution_count": 8,
   "metadata": {
    "scrolled": false
   },
   "outputs": [],
   "source": [
    "import numpy as np\n",
    "import matplotlib.pyplot as plt\n",
    "%matplotlib inline"
   ]
  },
  {
   "cell_type": "code",
   "execution_count": 9,
   "metadata": {
    "scrolled": false
   },
   "outputs": [],
   "source": [
    "params = np.array([(theta_left, theta_right), (beta_left, beta_right)])\n",
    "d0 = (0,  0)\n",
    "N = 10 # sim length\n",
    "mismatch_error = 0.1 # 10% model mismatch"
   ]
  },
  {
   "cell_type": "code",
   "execution_count": 10,
   "metadata": {
    "scrolled": false
   },
   "outputs": [],
   "source": [
    "# Functions for simulations and plotting\n",
    "\n",
    "def sim(params, left, right, eps, offset=0):\n",
    "    d = np.zeros((N, 2))\n",
    "    d[0] = d0\n",
    "    # Deterministically mismatch model parameters so students are guaranteed to see effects\n",
    "    th, b = np.array(params)*(1+eps*np.array([(1, -1), (1, -1)]))\n",
    "    for t in range(N-1):\n",
    "        delta = d[t, 0] - d[t, 1] + offset\n",
    "        if t < 1: # \"Jolt\" wheels with maximum power to start\n",
    "            u = (255, 255)\n",
    "        else: # Compute input\n",
    "            try:\n",
    "                u = (left(v_star, delta), right(v_star, delta))\n",
    "            except TypeError:\n",
    "                u = (left(v_star), right(v_star))\n",
    "        # Saturate inputs\n",
    "        u = np.minimum(np.maximum(0, np.array(u)), 255)\n",
    "        # Run single step of system\n",
    "        d[t+1] = d[t] + th*u - b # The phsyical system\n",
    "    delta = d[:, 0] - d[:, 1]\n",
    "    # Post-process delta to determine stability\n",
    "    ss_error = delta[-1]\n",
    "    if abs(ss_error - delta[-2]) > 1:\n",
    "        if abs(ss_error - delta[-3]) < 1e-1:\n",
    "            ss_error = 'oscillatory'\n",
    "        else:\n",
    "            ss_error = \"unbounded\"\n",
    "    elif abs(ss_error) < 1:\n",
    "        ss_error = 0\n",
    "    try:\n",
    "        print(\"Steady state error = {:.2f}\".format(ss_error))\n",
    "    except ValueError:\n",
    "        print(\"Steady state error = {}\".format(ss_error))\n",
    "    plt.plot(range(N), d[:, 0], 'b-', range(N), d[:, 1], 'y-')\n",
    "    plt.xlabel(\"k (sample)\")\n",
    "    plt.ylabel(\"Distance\")\n",
    "    plt.legend((\"left\", \"right\"), loc=\"best\")\n",
    "    return delta\n",
    "\n",
    "def two_sims(left, right, titles):\n",
    "    plt.figure(figsize=(10, 7))\n",
    "    plt.subplot(221)\n",
    "    delta1 = sim(params, left, right, 0)\n",
    "    plt.title(titles[0])\n",
    "    plt.subplot(223)\n",
    "    plt.plot(delta1, 'r')\n",
    "    plt.ylabel('delta')\n",
    "    plt.subplot(222)\n",
    "    delta2 = sim(params, left, right, mismatch_error)\n",
    "    plt.title(titles[1])\n",
    "    plt.subplot(224)\n",
    "    plt.plot(delta2, 'r')\n",
    "    plt.ylabel('delta')\n",
    "    return delta1, delta2"
   ]
  },
  {
   "cell_type": "markdown",
   "metadata": {},
   "source": [
    "## Open Loop Design\n",
    "\n",
    "Now design an open loop controller that uses the desired wheel velocity, `v_star`, to set the input `u` to an appropriate value for the pulse width modulation (PWM). To do this, solve your model from the previous part for the input $u[k]$ that makes the model velocity $d[k+1] - d[k]$ equal to the desired velocity $v^*$."
   ]
  },
  {
   "cell_type": "code",
   "execution_count": 11,
   "metadata": {
    "scrolled": false
   },
   "outputs": [],
   "source": [
    "# DESIGN YOUR OPEN-LOOP CONTROL HERE\n",
    "def driveStraight_left_OL(v_star):\n",
    "    return (v_star+beta_left) / theta_left\n",
    "\n",
    "def driveStraight_right_OL(v_star):\n",
    "    return (v_star+beta_left) / theta_left"
   ]
  },
  {
   "cell_type": "markdown",
   "metadata": {},
   "source": [
    "## Open Loop Simulation\n",
    "\n",
    "Now, let's do a quick simulation to check the behavior of the car based on our functions above. In these simulations, we apply maximum PWM for a short time as we do in the real car to \"jolt\" the motors from a stop.\n",
    "\n",
    "**Important:** As long as $\\delta$ is constant, even if $\\delta\\neq 0$, the car still travels straight! Traveling straight means the *velocities*, not the positions, of the wheels are the same. It may just travel straight in a different direction than the original heading. Lets call the steady state (final) value $\\delta_{ss}$.\n",
    "\n",
    "In the left two plots, we assume the physical system perfectly matches our model. On the right, we assume the physical system is 10% different from our model."
   ]
  },
  {
   "cell_type": "code",
   "execution_count": 12,
   "metadata": {
    "scrolled": false
   },
   "outputs": [
    {
     "name": "stdout",
     "output_type": "stream",
     "text": [
      "Steady state error = unbounded\n",
      "Steady state error = unbounded\n"
     ]
    },
    {
     "data": {
      "image/png": "[encoded data removed]",
      "text/plain": [
       "<matplotlib.figure.Figure at 0x7fc7c612b128>"
      ]
     },
     "metadata": {},
     "output_type": "display_data"
    }
   ],
   "source": [
    "titles = [\"Open-loop control with perfect model\",\n",
    "          \"Open-loop control with model mismatch\"]\n",
    "_,_ = two_sims(driveStraight_left_OL, driveStraight_right_OL, titles)"
   ]
  },
  {
   "cell_type": "markdown",
   "metadata": {},
   "source": [
    "From the above plots, we can see that the open-loop car travels straight only with a perfect model."
   ]
  },
  {
   "cell_type": "markdown",
   "metadata": {},
   "source": [
    "## Jolt Calculation\n",
    "Before we implement the open loop controller that we just designed, let's implement an initial jolt for our motors. The idea behind this is that, as we learned in the System ID lab, our motors likely do not behave in the same way. In order to try to get uniform behavior (jolt the car straight), we want to calculate the PWM (input) values that give the maximum velocities attainable by both wheels.\n",
    "\n",
    "This is implemented below by calculating the inputs that results in the minimum of the maximum velocities of both wheels. \n",
    "\n",
    "- **Make sure your `data_coarse.txt` file from System ID is in the same directory as the iPython notebook.**\n",
    "- Run the code below to find your initial jolt values.\n",
    "- Your initial jolt values are correct if they are the input values that correspond to the points where the blue and yellow lines intersect the green line respectively."
   ]
  },
  {
   "cell_type": "code",
   "execution_count": 16,
   "metadata": {},
   "outputs": [
    {
     "ename": "FileNotFoundError",
     "evalue": "[Errno 2] No such file or directory: 'data_coarse.txt'",
     "output_type": "error",
     "traceback": [
      "\u001b[0;31m---------------------------------------------------------------------------\u001b[0m",
      "\u001b[0;31mFileNotFoundError\u001b[0m                         Traceback (most recent call last)",
      "\u001b[0;32m<ipython-input-16-86d17cfc754f>\u001b[0m in \u001b[0;36m<module>\u001b[0;34m()\u001b[0m\n\u001b[1;32m     38\u001b[0m     \u001b[0;32mreturn\u001b[0m \u001b[0mleft_jolt\u001b[0m\u001b[0;34m,\u001b[0m \u001b[0mright_jolt\u001b[0m\u001b[0;34m\u001b[0m\u001b[0m\n\u001b[1;32m     39\u001b[0m \u001b[0;34m\u001b[0m\u001b[0m\n\u001b[0;32m---> 40\u001b[0;31m \u001b[0mleft_jolt\u001b[0m\u001b[0;34m,\u001b[0m \u001b[0mright_jolt\u001b[0m \u001b[0;34m=\u001b[0m \u001b[0mfind_jolt\u001b[0m\u001b[0;34m(\u001b[0m\u001b[0;34m)\u001b[0m\u001b[0;34m\u001b[0m\u001b[0m\n\u001b[0m\u001b[1;32m     41\u001b[0m \u001b[0mprint\u001b[0m\u001b[0;34m(\u001b[0m\u001b[0;34m'int left_jolt = {};\\nint right_jolt = {};'\u001b[0m\u001b[0;34m.\u001b[0m\u001b[0mformat\u001b[0m\u001b[0;34m(\u001b[0m\u001b[0mleft_jolt\u001b[0m\u001b[0;34m,\u001b[0m \u001b[0mright_jolt\u001b[0m\u001b[0;34m)\u001b[0m\u001b[0;34m)\u001b[0m\u001b[0;34m\u001b[0m\u001b[0m\n",
      "\u001b[0;32m<ipython-input-16-86d17cfc754f>\u001b[0m in \u001b[0;36mfind_jolt\u001b[0;34m()\u001b[0m\n\u001b[1;32m      6\u001b[0m \u001b[0;34m\u001b[0m\u001b[0m\n\u001b[1;32m      7\u001b[0m \u001b[0;32mdef\u001b[0m \u001b[0mfind_jolt\u001b[0m\u001b[0;34m(\u001b[0m\u001b[0;34m)\u001b[0m\u001b[0;34m:\u001b[0m\u001b[0;34m\u001b[0m\u001b[0m\n\u001b[0;32m----> 8\u001b[0;31m     \u001b[0;32mwith\u001b[0m \u001b[0mopen\u001b[0m\u001b[0;34m(\u001b[0m\u001b[0;34m'data_coarse.txt'\u001b[0m\u001b[0;34m,\u001b[0m \u001b[0;34m'r'\u001b[0m\u001b[0;34m)\u001b[0m \u001b[0;32mas\u001b[0m \u001b[0mfile\u001b[0m\u001b[0;34m:\u001b[0m\u001b[0;34m\u001b[0m\u001b[0m\n\u001b[0m\u001b[1;32m      9\u001b[0m         \u001b[0mdata\u001b[0m \u001b[0;34m=\u001b[0m \u001b[0mnp\u001b[0m\u001b[0;34m.\u001b[0m\u001b[0marray\u001b[0m\u001b[0;34m(\u001b[0m\u001b[0;34m[\u001b[0m\u001b[0;34m[\u001b[0m\u001b[0mint\u001b[0m\u001b[0;34m(\u001b[0m\u001b[0mnum\u001b[0m\u001b[0;34m)\u001b[0m \u001b[0;32mfor\u001b[0m \u001b[0mnum\u001b[0m \u001b[0;32min\u001b[0m \u001b[0mline\u001b[0m\u001b[0;34m.\u001b[0m\u001b[0mstrip\u001b[0m\u001b[0;34m(\u001b[0m\u001b[0;34m)\u001b[0m\u001b[0;34m.\u001b[0m\u001b[0msplit\u001b[0m\u001b[0;34m(\u001b[0m\u001b[0;34m','\u001b[0m\u001b[0;34m)\u001b[0m\u001b[0;34m]\u001b[0m \u001b[0;32mfor\u001b[0m \u001b[0mline\u001b[0m \u001b[0;32min\u001b[0m \u001b[0mfile\u001b[0m\u001b[0;34m.\u001b[0m\u001b[0mreadlines\u001b[0m\u001b[0;34m(\u001b[0m\u001b[0;34m)\u001b[0m\u001b[0;34m]\u001b[0m\u001b[0;34m)\u001b[0m\u001b[0;34m\u001b[0m\u001b[0m\n\u001b[1;32m     10\u001b[0m \u001b[0;34m\u001b[0m\u001b[0m\n",
      "\u001b[0;31mFileNotFoundError\u001b[0m: [Errno 2] No such file or directory: 'data_coarse.txt'"
     ]
    }
   ],
   "source": [
    "def find_closest_idx(arr, val):\n",
    "    \"\"\"\n",
    "    Given an array of velocities and a value, returns the index of the array where arr[index] is the closest to the given value\n",
    "    \"\"\"\n",
    "    return np.array(abs(arr-val)).argmin()\n",
    "\n",
    "def find_jolt(): \n",
    "    with open('data_coarse.txt', 'r') as file:\n",
    "        data = np.array([[int(num) for num in line.strip().split(',')] for line in file.readlines()])\n",
    "\n",
    "    # compute velocity from distances\n",
    "    dleft  = data[:, 1]\n",
    "    dright = data[:, 2]\n",
    "    vleft  = dleft[1:]  - dleft[:-1] \n",
    "    vright = dright[1:] - dright[:-1]\n",
    "    u = data[1:, 0].reshape((-1, 1)) # duty cycle\n",
    "\n",
    "    left_des, _ = np.array_split(vleft, 2)\n",
    "    right_des, _ = np.array_split(vright, 2)\n",
    "    u_des, _ = np.array_split(u, 2)\n",
    "    \n",
    "    plt.figure()\n",
    "    plt.axis((0, 250, 0, max(max(left_des), max(right_des))+10))\n",
    "    max_vel = min(max(left_des), max(right_des))\n",
    "    plt.plot(u_des, left_des, 'b',  u_des, right_des, 'y')\n",
    "    plt.axhline(max_vel, color='g', linestyle='--')\n",
    "    plt.xlabel(\"u (input via PWM)\")\n",
    "    plt.ylabel(\"Velocity of Wheels\")\n",
    "    labels = (\"left wheel\" , \"right wheel\", \"max velocity\")\n",
    "    plt.legend(labels, loc=2)\n",
    "    \n",
    "    left_idx = find_closest_idx(left_des, max_vel)\n",
    "    right_idx = find_closest_idx(right_des, max_vel)\n",
    "    left_jolt = u_des[left_idx][0]\n",
    "    right_jolt = u_des[right_idx][0]\n",
    "    plt.axvline(left_jolt, color='b', linestyle='--')\n",
    "    plt.axvline(right_jolt, color='y', linestyle='--')\n",
    "    return left_jolt, right_jolt\n",
    "\n",
    "left_jolt, right_jolt = find_jolt()\n",
    "print('int left_jolt = {};\\nint right_jolt = {};'.format(left_jolt, right_jolt))"
   ]
  },
  {
   "cell_type": "markdown",
   "metadata": {},
   "source": [
    "## Open Loop Implementation\n",
    "\n",
    "Now implement the controller on the Launchpad. The sketch **`open_loop.ino`** contains some code that implements the open loop control.\n",
    "\n",
    "- Fill in these values in `CODE BLOCK CON1`:\n",
    "    - desired velocity: `v_star` \n",
    "    - estimated parameters: `theta_left`, `theta_right`, `beta_left`, `beta_right`\n",
    "    - initial jolt values: `left_jolt`, `right_jolt`\n",
    "    \n",
    "    \n",
    "- Additionally, we need to compute the PWM input to the motors in `CODE BLOCK CON2`:\n",
    "    - Complete `driveStraght_left_OL()` and `driveStraight_right_OL()` to compute `left_cur_pwm` and `right_cur_pwm` (the PWM inputs for each wheel required for a desired v_star)\n",
    "    \n",
    "    \n",
    "- Fill out `CODE BLOCK CON0` to calculate the control inputs using the functions from `CODE BLOCK CON2`.\n",
    "- Upload the sketch to your Launchpad.\n",
    "- **Make sure that the car is suspended above the desk.** Your car wheels are going to move in this step.\n",
    "\n",
    "Once you are satisfied that your motors work and your open loop control is implemented, put the car on the ground. Switch the motors on and press the reset button. SIXT33N should move straighter than previously because you have accounted for differences in the two motors. Does it behave how you expect? It's okay if it doesn't drive completely straight at this stage.\n",
    "\n",
    "<img width='15px' align='left' src=\"http://inst.eecs.berkeley.edu/~ee16b/sp16/lab_pics/check.png\"> \n",
    "\n",
    "### <span style=\"color:green\">CHECKPOINT 0.5:</span>\n",
    "<span style=\"color:green\">**Show your GSI the functioning open-loop control.**</span>\n"
   ]
  },
  {
   "cell_type": "markdown",
   "metadata": {},
   "source": [
    "<a id='part2'></a>\n",
    "## <span style=\"color:blue\">Part 2: Closed Loop Simulation and Modeling</span>"
   ]
  },
  {
   "cell_type": "markdown",
   "metadata": {},
   "source": [
    "## Closed Loop Design\n",
    "\n",
    "Now that we have an open loop model, we can build a closed loop controller that uses feedback to ensure that both wheels drive at the same velocity. The controller has 2 inputs, namely the desired velocity and the difference between the wheel distances $\\delta[k] = d_L[k] - d_R[k]$.\n",
    "\n",
    "### 1. Read <a href=\"https://inst.eecs.berkeley.edu/~ee16b/fa17/proj/controls-primer.pdf\">this PDF</a> for the derivation of the closed-loop system and its eigenvalue.\n",
    "\n"
   ]
  },
  {
   "cell_type": "markdown",
   "metadata": {},
   "source": [
    "<span style='color:red'>** 2. Using the information above, draw a block diagram of both wheels' controllers.**</span> Show this diagram to your GSI before moving on. Keep this somewhere, as you will use it in your report."
   ]
  },
  {
   "cell_type": "markdown",
   "metadata": {},
   "source": [
    "<span style='color:red'>** 3. Now derive the closed loop update equation for the differences $\\delta[k]$ corresponding to your controller.**</span> Keep this somewhere, as you will use it in your report."
   ]
  },
  {
   "cell_type": "markdown",
   "metadata": {},
   "source": [
    "Now that we've derived the model, we can begin implementing it. Fill in the two functions below."
   ]
  },
  {
   "cell_type": "code",
   "execution_count": null,
   "metadata": {
    "collapsed": true,
    "scrolled": false
   },
   "outputs": [],
   "source": [
    "# DESIGN YOUR CLOSED-LOOP CONTROL HERE\n",
    "def driveStraight_left_CL(v_star, delta):\n",
    "    # YOUR CODE HERE\n",
    "    return \n",
    "\n",
    "def driveStraight_right_CL(v_star, delta):\n",
    "    # YOUR CODE HERE\n",
    "    return "
   ]
  },
  {
   "cell_type": "markdown",
   "metadata": {},
   "source": [
    "## Closed Loop Simulation and K-Value Selection\n",
    "\n",
    "Next we need to choose values for the control gains so that the $\\delta[k]$ update equation is stable. There should be a range of parameter values that make it stable, so we can tune the gains to get the desired performance.\n",
    "\n",
    "The first plot below shows the car's performance given a model that exactly matches the physical car. In this case, $\\delta$ converges to 0. The second plot shows that under model mismatch, $\\delta$ actually converges to a nonzero value, $\\delta_{ss}$. **Remember the car is still traveling straight in this scenario.** At this value, the turning effect of the terms $-k_L\\delta_{ss}/\\theta_R$ and $k_R\\delta_{ss}/\\theta_R$ in the closed-loop equations cancel out the turning effect of the model error.\n",
    "\n",
    "<span style='color:red'>**Try the 5 different sets of gains below and see the effect of each.**</span>"
   ]
  },
  {
   "cell_type": "code",
   "execution_count": null,
   "metadata": {
    "scrolled": false
   },
   "outputs": [],
   "source": [
    "k_left, k_right, stab = -0.3, 0.3, \"marginally stable\"\n",
    "# k_left, k_right, stab = 0.5, 0.5, \"stable, corrects error in one step\"\n",
    "# k_left, k_right, stab = 1, 1, \"oscillatory, marginally stable\"\n",
    "# k_left, k_right, stab = 1.1, 1.1, \"oscillatory, unstable\"\n",
    "# k_left, k_right, stab = 0.2, 0.2, \"stable\"\n",
    "# k_left, k_right = # YOUR VALUES HERE\n",
    "\n",
    "titles = [\"Closed-loop control with perfect model\",\n",
    "          \"Closed-loop control with model mismatch, kL={}, kR={}\".format(k_left, k_right)]\n",
    "_, delta = two_sims(driveStraight_left_CL, driveStraight_right_CL, titles)\n",
    "\n",
    "print(\"kL={}, kR={}\".format(k_left, k_right))\n",
    "print(\"Eigenvalue of system: 1-kL-kR={:.2g}; {}\".format(1-k_left-k_right, stab))\n",
    "steady_state_error = delta[-1]"
   ]
  },
  {
   "cell_type": "markdown",
   "metadata": {
    "collapsed": true
   },
   "source": [
    "## Closed Loop Implementation\n",
    "\n",
    "Now implement the controller on the Launchpad. The sketch **`closed_loop.ino`** contains some code that implements the closed loop control. \n",
    "\n",
    "- Copy `CODE BLOCK CON1` from **`open_loop.ino`** and add your control gains **`k_left`** and **`k_right`**.\n",
    "- Fill out `CODE BLOCK CON2` with your closed-loop control scheme.\n",
    "- Fill out `CODE BLOCK CON0` in the body of the loop function to calculate the control inputs. Inspect this code to see how the control system is implemented. For now, ignore the term `delta_ss`, as it's currently set to 0.\n",
    "- Upload the sketch to your LaunchPad.\n",
    "    - Make sure that the car is suspended above the desk. Your car wheels are going to move in this step.\n",
    "    - Check that the wheels are moving as you expect them to.\n",
    "    - If you use your hand to put some friction on the wheels, does the feedback correct for it?\n",
    "\n",
    "Once you are satisfied that your motors work and your closed-loop control is implemented, run the car on the ground. If it behaves erroneously (for example the controller oscillates), try different eigenvalues. Our simulations compare our possibly mismatched linear model with a linear approximation of our car. In reality, the car is a nonlinear system.\n",
    "\n",
    "**Note:** It's possible that the car curves *slightly* over long distances, even if it the car thinks it's traveling straight. This can be due to factors such as mechanical differences past the shaft of the motor, including slight variation in wheel size or wheel wobble. We can fix this after we make the car turn.\n",
    "\n",
    "<span style='color:red'>**What are some reasons why the simulation might behave differently from the car? What about the differences between when the car is on the ground versus when it is on the desk?**</span>"
   ]
  },
  {
   "cell_type": "markdown",
   "metadata": {},
   "source": [
    "<img width='30px' align='left' src=\"http://inst.eecs.berkeley.edu/~ee16b/sp16/lab_pics/check.png\">\n",
    "<br/>\n",
    "## <span style=\"color:green\">CHECKPOINT 1</span>\n",
    "<span style=\"color:green\">**Show your GSI that you have implemented the closed loop control in closed_loop.ino.**</span>\n",
    "## <span style=\"color:green\">**You do NOT need to run closed_loop.ino and the car does NOT need to go straight at this stage.**</span>"
   ]
  },
  {
   "cell_type": "markdown",
   "metadata": {},
   "source": [
    "<a id='part3'></a>\n",
    "## <span style=\"color:blue\">Part 3: Driving Straight</span>"
   ]
  },
  {
   "cell_type": "markdown",
   "metadata": {},
   "source": [
    "## K-Value Tuning\n",
    "\n",
    "How did the car behave? It probably didn't go perfectly straight with the first set of k values that you picked. In order to find the \"right\" k values, we will need to analyze the behavior of our car. Recall in lecture that we learned about how the control values will affect the convergence of a system.\n",
    "\n",
    "\n",
    "<img width='600px' src=\"https://upload.wikimedia.org/wikipedia/commons/c/c0/Change_with_Ki.png\">\n",
    "\n",
    "The above plot can be summarized as:\n",
    "- if k is too small, it takes a long time to converge to our desired solution\n",
    "- if k is too big, oscillations happen\n",
    "\n",
    "We can use this information to help guide us to k values that get our car going straight. Check out this youtube playlist if you need some examples of what each case could look like: https://www.youtube.com/playlist?list=PLQ1OVCqw6RUPgCmv8H6y9qbcMBT8lotDt\n",
    "\n",
    "You will likely have to try several sets of k values until you find one that works well with your particular car. If you find yourself having a lot of trouble narrowing in on some, ask your GSI for help!"
   ]
  },
  {
   "cell_type": "markdown",
   "metadata": {},
   "source": [
    "## Steady State Error Correction\n",
    "\n",
    "Lastly, what if we want the car to travel in (approximately) the same direction as when it starts moving? We can manually add the known steady state error $\\delta_{ss}$ to each calculation of the error $\\delta$. Accounting for the known $\\delta_{ss}$ helps the model better respond to unexpected pertubations affecting $\\delta$ which increases the model's control strength.\n",
    "\n",
    "We now calculate $\\delta[k]=d_L - d_R + \\delta_{ss}$.\n"
   ]
  },
  {
   "cell_type": "code",
   "execution_count": null,
   "metadata": {
    "scrolled": false
   },
   "outputs": [],
   "source": [
    "plt.figure(figsize=(5, 7))\n",
    "plt.subplot(211)\n",
    "# Simulate using steady_state_error\n",
    "delta = sim(params, driveStraight_left_CL, driveStraight_right_CL, mismatch_error, steady_state_error)\n",
    "plt.title(\"Closed loop control with model mismatch and\\nsteady state error correction, kL={}, kR={}\".format(k_left, k_right))\n",
    "plt.subplot(212)\n",
    "plt.plot(delta, 'r')\n",
    "plt.ylabel('delta')"
   ]
  },
  {
   "cell_type": "markdown",
   "metadata": {},
   "source": [
    "- `closed_loop.ino` collects data as it runs, including $\\delta[k]$.\n",
    "    - Let the car run until it settles to (approximately) straight.\n",
    "    - Switch off the motors and plug the MSP into your computer.\n",
    "    - Close the serial monitor (if it's open), and reopen the serial monitor.\n",
    "- Note the steady-state value $\\delta_{ss}$.\n",
    "    - The first column of the printed data is $\\delta$ over time.\n",
    "    - **If $\\delta$ doesn't reach steady-state, the car is not going straight according to the sensors.**\n",
    "        - It's okay if it isn't exactly constant.\n",
    "        - Just be sure the variation is small in proportion to the average value.\n",
    "\n",
    "## Implementing Steady State Error Correction\n",
    "\n",
    "- Input your value of $\\delta_{ss}$ in `CODE BLOCK CON3` in **`closed_loop.ino`**.\n",
    "- Convince yourself that we need to *add* this value in `CODE BLOCK CON0`.\n",
    "\n",
    "For example, if the car drives straight but turned right from its initial heading, we want the right wheel to farther so it turns back towards the left. Adding a positive number to delta accomplishes this."
   ]
  },
  {
   "cell_type": "markdown",
   "metadata": {},
   "source": [
    "<img width='30px' align='left' src=\"http://inst.eecs.berkeley.edu/~ee16b/sp16/lab_pics/check.png\">\n",
    "<br/>\n",
    "## <span style=\"color:green\">CHECKOFF 2</span>\n",
    " <span style=\"color:green\">**Show your GSI that your car moves in a straight line.** Your GSI will also check your block diagram and k values.</span>"
   ]
  }
 ],
 "metadata": {
  "anaconda-cloud": {},
  "kernelspec": {
   "display_name": "Python 3",
   "language": "python",
   "name": "python3"
  },
  "language_info": {
   "codemirror_mode": {
    "name": "ipython",
    "version": 3
   },
   "file_extension": ".py",
   "mimetype": "text/x-python",
   "name": "python",
   "nbconvert_exporter": "python",
   "pygments_lexer": "ipython3",
   "version": "3.6.4+"
  }
 },
 "nbformat": 4,
 "nbformat_minor": 1
}
